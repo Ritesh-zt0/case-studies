{
 "cells": [
  {
   "cell_type": "markdown",
   "id": "d281413e",
   "metadata": {
    "papermill": {
     "duration": 0.007462,
     "end_time": "2023-05-26T08:02:39.468967",
     "exception": false,
     "start_time": "2023-05-26T08:02:39.461505",
     "status": "completed"
    },
    "tags": []
   },
   "source": [
    "## Stock prices using LSTM:\n",
    "\n",
    "* Steps to be done:\n",
    "\n",
    "1. We will collect the Stock Data \n",
    "2. Pre-process the Data \n",
    "3. Create an stacked LSTM model\n",
    "4. Predict the test data and plot the output\n",
    "5. Predict the future and plot the output"
   ]
  },
  {
   "cell_type": "code",
   "execution_count": 1,
   "id": "24a4d23b",
   "metadata": {
    "execution": {
     "iopub.execute_input": "2023-05-26T08:02:39.484156Z",
     "iopub.status.busy": "2023-05-26T08:02:39.483556Z",
     "iopub.status.idle": "2023-05-26T08:02:50.669039Z",
     "shell.execute_reply": "2023-05-26T08:02:50.667348Z"
    },
    "papermill": {
     "duration": 11.197134,
     "end_time": "2023-05-26T08:02:50.672585",
     "exception": false,
     "start_time": "2023-05-26T08:02:39.475451",
     "status": "completed"
    },
    "tags": []
   },
   "outputs": [],
   "source": [
    "import numpy as np\n",
    "import pandas as pd\n",
    "\n",
    "import os\n",
    "import matplotlib.pyplot as plt\n",
    "import pandas_datareader as web\n",
    "import datetime as dt\n",
    "\n",
    "from sklearn.preprocessing import MinMaxScaler\n",
    "from tensorflow.keras.models import Sequential\n",
    "from tensorflow.keras.layers import Dense, Dropout, LSTM\n",
    "from tensorflow.keras.callbacks import ModelCheckpoint, EarlyStopping"
   ]
  },
  {
   "cell_type": "markdown",
   "id": "3054d5db",
   "metadata": {
    "papermill": {
     "duration": 0.005879,
     "end_time": "2023-05-26T08:02:50.684890",
     "exception": false,
     "start_time": "2023-05-26T08:02:50.679011",
     "status": "completed"
    },
    "tags": []
   },
   "source": [
    "## 1. Pre-processing:\n"
   ]
  },
  {
   "cell_type": "code",
   "execution_count": 2,
   "id": "4d43ac48",
   "metadata": {
    "execution": {
     "iopub.execute_input": "2023-05-26T08:02:50.700446Z",
     "iopub.status.busy": "2023-05-26T08:02:50.699513Z",
     "iopub.status.idle": "2023-05-26T08:02:51.027156Z",
     "shell.execute_reply": "2023-05-26T08:02:51.025971Z"
    },
    "papermill": {
     "duration": 0.338702,
     "end_time": "2023-05-26T08:02:51.030207",
     "exception": false,
     "start_time": "2023-05-26T08:02:50.691505",
     "status": "completed"
    },
    "tags": []
   },
   "outputs": [],
   "source": [
    "# Load csv\n",
    "df = pd.read_csv('../input/cac40-stocks-dataset/preprocessed_CAC40.csv', parse_dates=['Date'])"
   ]
  },
  {
   "cell_type": "code",
   "execution_count": 3,
   "id": "eb356beb",
   "metadata": {
    "execution": {
     "iopub.execute_input": "2023-05-26T08:02:51.046063Z",
     "iopub.status.busy": "2023-05-26T08:02:51.045313Z",
     "iopub.status.idle": "2023-05-26T08:02:51.054764Z",
     "shell.execute_reply": "2023-05-26T08:02:51.053070Z"
    },
    "papermill": {
     "duration": 0.021048,
     "end_time": "2023-05-26T08:02:51.057790",
     "exception": false,
     "start_time": "2023-05-26T08:02:51.036742",
     "status": "completed"
    },
    "tags": []
   },
   "outputs": [],
   "source": [
    "def load_data(company, start, end):\n",
    "    \"\"\"\n",
    "    Load data for the specified company and date range.\n",
    "\n",
    "    :param company: The company's stock symbol (str)\n",
    "    :param start: The starting date for the data range (str or datetime)\n",
    "    :param end: The ending date for the data range (str or datetime)\n",
    "    :return: A dataframe containing the relevant stock data (pandas.DataFrame)\n",
    "    \"\"\"\n",
    "    dataframe = df.copy()\n",
    "    dataframe = dataframe.loc[dataframe.Name == company, :]\n",
    "    dataframe = dataframe.loc[(dataframe['Date'] > start) & (dataframe['Date'] < end), :]\n",
    "    dataframe = dataframe.rename(columns = {'Closing_Price': 'Close'})\n",
    "    return dataframe"
   ]
  },
  {
   "cell_type": "code",
   "execution_count": 4,
   "id": "e3b41ba9",
   "metadata": {
    "execution": {
     "iopub.execute_input": "2023-05-26T08:02:51.073368Z",
     "iopub.status.busy": "2023-05-26T08:02:51.072313Z",
     "iopub.status.idle": "2023-05-26T08:02:51.079155Z",
     "shell.execute_reply": "2023-05-26T08:02:51.077749Z"
    },
    "papermill": {
     "duration": 0.017629,
     "end_time": "2023-05-26T08:02:51.082069",
     "exception": false,
     "start_time": "2023-05-26T08:02:51.064440",
     "status": "completed"
    },
    "tags": []
   },
   "outputs": [],
   "source": [
    "COMPANY = 'Accor'\n",
    "START_DATE = dt.datetime(2015,1,1)\n",
    "END_DATE = dt.datetime(2020,1,1)\n",
    "\n",
    "START_DATE_TEST = END_DATE"
   ]
  },
  {
   "cell_type": "code",
   "execution_count": 5,
   "id": "2a65600b",
   "metadata": {
    "execution": {
     "iopub.execute_input": "2023-05-26T08:02:51.097319Z",
     "iopub.status.busy": "2023-05-26T08:02:51.096806Z",
     "iopub.status.idle": "2023-05-26T08:02:51.142904Z",
     "shell.execute_reply": "2023-05-26T08:02:51.141509Z"
    },
    "papermill": {
     "duration": 0.0574,
     "end_time": "2023-05-26T08:02:51.146080",
     "exception": false,
     "start_time": "2023-05-26T08:02:51.088680",
     "status": "completed"
    },
    "tags": []
   },
   "outputs": [],
   "source": [
    "data = load_data(company = COMPANY,\n",
    "                 start = START_DATE,\n",
    "                 end = END_DATE)"
   ]
  },
  {
   "cell_type": "code",
   "execution_count": 6,
   "id": "0cdcb623",
   "metadata": {
    "execution": {
     "iopub.execute_input": "2023-05-26T08:02:51.161507Z",
     "iopub.status.busy": "2023-05-26T08:02:51.160997Z",
     "iopub.status.idle": "2023-05-26T08:02:51.169145Z",
     "shell.execute_reply": "2023-05-26T08:02:51.167788Z"
    },
    "papermill": {
     "duration": 0.019175,
     "end_time": "2023-05-26T08:02:51.171899",
     "exception": false,
     "start_time": "2023-05-26T08:02:51.152724",
     "status": "completed"
    },
    "tags": []
   },
   "outputs": [],
   "source": [
    "# Normalize data\n",
    "scaler = MinMaxScaler(feature_range=(0,1))\n",
    "scaled_data = scaler.fit_transform(data['Close'].values.reshape(-1,1))"
   ]
  },
  {
   "cell_type": "code",
   "execution_count": 7,
   "id": "84dedd46",
   "metadata": {
    "execution": {
     "iopub.execute_input": "2023-05-26T08:02:51.187640Z",
     "iopub.status.busy": "2023-05-26T08:02:51.186952Z",
     "iopub.status.idle": "2023-05-26T08:02:51.199085Z",
     "shell.execute_reply": "2023-05-26T08:02:51.198108Z"
    },
    "papermill": {
     "duration": 0.023237,
     "end_time": "2023-05-26T08:02:51.201850",
     "exception": false,
     "start_time": "2023-05-26T08:02:51.178613",
     "status": "completed"
    },
    "tags": []
   },
   "outputs": [],
   "source": [
    "# Set the number of days used for prediction\n",
    "prediction_days = 60\n",
    "\n",
    "# Initialize empty lists for training data input and output\n",
    "x_train = []\n",
    "y_train = []\n",
    "\n",
    "# Iterate through the scaled data, starting from the prediction_days index\n",
    "for x in range(prediction_days, len(scaled_data)):\n",
    "    # Append the previous 'prediction_days' values to x_train\n",
    "    x_train.append(scaled_data[x - prediction_days:x, 0])\n",
    "    # Append the current value to y_train\n",
    "    y_train.append(scaled_data[x, 0])\n",
    "\n",
    "# Convert the x_train and y_train lists to numpy arrays\n",
    "x_train, y_train = np.array(x_train), np.array(y_train)\n",
    "\n",
    "# Reshape x_train to a 3D array with the appropriate dimensions for the LSTM model\n",
    "x_train = np.reshape(x_train, (x_train.shape[0], x_train.shape[1], 1))"
   ]
  },
  {
   "cell_type": "markdown",
   "id": "8462554f",
   "metadata": {
    "papermill": {
     "duration": 0.006309,
     "end_time": "2023-05-26T08:02:51.214815",
     "exception": false,
     "start_time": "2023-05-26T08:02:51.208506",
     "status": "completed"
    },
    "tags": []
   },
   "source": [
    "## 2. LSTM Model:\n",
    "\n",
    "What is a LSTM ?\n",
    "\n",
    "Long Short Term Memory networks – usually just called “LSTMs” – are a special kind of RNN, capable of learning long-term dependencies. Introduced by Hochreiter & Schmidhuber (1997), and were refined and popularized by many people in following work. They work tremendously well on a large variety of problems, and are now widely used.\n",
    "\n",
    "LSTMs are explicitly designed to avoid the long-term dependency problem. Remembering information for long periods of time is practically their default behavior, not something they struggle to learn!\n",
    "\n",
    "All recurrent neural networks have the form of a chain of repeating modules of neural network."
   ]
  },
  {
   "cell_type": "code",
   "execution_count": 8,
   "id": "a8902b18",
   "metadata": {
    "execution": {
     "iopub.execute_input": "2023-05-26T08:02:51.230357Z",
     "iopub.status.busy": "2023-05-26T08:02:51.229899Z",
     "iopub.status.idle": "2023-05-26T08:02:51.240272Z",
     "shell.execute_reply": "2023-05-26T08:02:51.238636Z"
    },
    "papermill": {
     "duration": 0.021599,
     "end_time": "2023-05-26T08:02:51.243113",
     "exception": false,
     "start_time": "2023-05-26T08:02:51.221514",
     "status": "completed"
    },
    "tags": []
   },
   "outputs": [],
   "source": [
    "def LSTM_model():\n",
    "    \"\"\"\n",
    "    Create and configure an LSTM model for stock price prediction.\n",
    "\n",
    "    :return: The configured LSTM model (keras.Sequential)\n",
    "    \"\"\"\n",
    "\n",
    "    # Initialize a sequential model\n",
    "    model = Sequential()\n",
    "\n",
    "    # Add the first LSTM layer with 50 units, input shape, and return sequences\n",
    "    model.add(LSTM(units=50, return_sequences=True, input_shape=(x_train.shape[1], 1)))\n",
    "    # Add dropout to prevent overfitting\n",
    "    model.add(Dropout(0.2))\n",
    "\n",
    "    # Add a second LSTM layer with 50 units and return sequences\n",
    "    model.add(LSTM(units=50, return_sequences=True))\n",
    "    # Add dropout to prevent overfitting\n",
    "    model.add(Dropout(0.2))\n",
    "    \n",
    "    # Add a third LSTM layer with 50 units\n",
    "    model.add(LSTM(units=50))\n",
    "    # Add dropout to prevent overfitting\n",
    "    model.add(Dropout(0.2))\n",
    "\n",
    "    # Add a dense output layer with one unit\n",
    "    model.add(Dense(units=1))\n",
    "\n",
    "    return model"
   ]
  },
  {
   "cell_type": "markdown",
   "id": "e2dd3126",
   "metadata": {
    "papermill": {
     "duration": 0.006383,
     "end_time": "2023-05-26T08:02:51.256424",
     "exception": false,
     "start_time": "2023-05-26T08:02:51.250041",
     "status": "completed"
    },
    "tags": []
   },
   "source": [
    "## Training LSTM model:\n"
   ]
  },
  {
   "cell_type": "code",
   "execution_count": 9,
   "id": "0c50777a",
   "metadata": {
    "execution": {
     "iopub.execute_input": "2023-05-26T08:02:51.272196Z",
     "iopub.status.busy": "2023-05-26T08:02:51.271745Z",
     "iopub.status.idle": "2023-05-26T08:02:52.745267Z",
     "shell.execute_reply": "2023-05-26T08:02:52.743746Z"
    },
    "papermill": {
     "duration": 1.485583,
     "end_time": "2023-05-26T08:02:52.748893",
     "exception": false,
     "start_time": "2023-05-26T08:02:51.263310",
     "status": "completed"
    },
    "tags": []
   },
   "outputs": [
    {
     "name": "stdout",
     "output_type": "stream",
     "text": [
      "Model: \"sequential\"\n",
      "_________________________________________________________________\n",
      " Layer (type)                Output Shape              Param #   \n",
      "=================================================================\n",
      " lstm (LSTM)                 (None, 60, 50)            10400     \n",
      "                                                                 \n",
      " dropout (Dropout)           (None, 60, 50)            0         \n",
      "                                                                 \n",
      " lstm_1 (LSTM)               (None, 60, 50)            20200     \n",
      "                                                                 \n",
      " dropout_1 (Dropout)         (None, 60, 50)            0         \n",
      "                                                                 \n",
      " lstm_2 (LSTM)               (None, 50)                20200     \n",
      "                                                                 \n",
      " dropout_2 (Dropout)         (None, 50)                0         \n",
      "                                                                 \n",
      " dense (Dense)               (None, 1)                 51        \n",
      "                                                                 \n",
      "=================================================================\n",
      "Total params: 50,851\n",
      "Trainable params: 50,851\n",
      "Non-trainable params: 0\n",
      "_________________________________________________________________\n"
     ]
    }
   ],
   "source": [
    "model = LSTM_model()\n",
    "model.summary()\n",
    "model.compile(\n",
    "    optimizer='adam', \n",
    "    loss='mean_squared_error'\n",
    ")"
   ]
  },
  {
   "cell_type": "code",
   "execution_count": 10,
   "id": "df9ebb86",
   "metadata": {
    "execution": {
     "iopub.execute_input": "2023-05-26T08:02:52.769945Z",
     "iopub.status.busy": "2023-05-26T08:02:52.769458Z",
     "iopub.status.idle": "2023-05-26T08:05:20.960022Z",
     "shell.execute_reply": "2023-05-26T08:05:20.958309Z"
    },
    "papermill": {
     "duration": 148.306907,
     "end_time": "2023-05-26T08:05:21.065079",
     "exception": false,
     "start_time": "2023-05-26T08:02:52.758172",
     "status": "completed"
    },
    "tags": []
   },
   "outputs": [
    {
     "name": "stdout",
     "output_type": "stream",
     "text": [
      "Epoch 1/25\n",
      "38/38 [==============================] - 10s 86ms/step - loss: 0.0403\n",
      "Epoch 2/25\n",
      "38/38 [==============================] - 3s 89ms/step - loss: 0.0105\n",
      "Epoch 3/25\n",
      "38/38 [==============================] - 3s 88ms/step - loss: 0.0101\n",
      "Epoch 4/25\n",
      "38/38 [==============================] - 3s 87ms/step - loss: 0.0086\n",
      "Epoch 5/25\n",
      "38/38 [==============================] - 4s 93ms/step - loss: 0.0083\n",
      "Epoch 6/25\n",
      "38/38 [==============================] - 3s 88ms/step - loss: 0.0082\n",
      "Epoch 7/25\n",
      "38/38 [==============================] - 3s 87ms/step - loss: 0.0074\n",
      "Epoch 8/25\n",
      "38/38 [==============================] - 3s 87ms/step - loss: 0.0079\n",
      "Epoch 9/25\n",
      "38/38 [==============================] - 3s 89ms/step - loss: 0.0072\n",
      "Epoch 10/25\n",
      "38/38 [==============================] - 3s 87ms/step - loss: 0.0067\n",
      "Epoch 11/25\n",
      "38/38 [==============================] - 3s 85ms/step - loss: 0.0071\n",
      "Epoch 12/25\n",
      "38/38 [==============================] - 3s 88ms/step - loss: 0.0063\n",
      "Epoch 13/25\n",
      "38/38 [==============================] - 3s 88ms/step - loss: 0.0064\n",
      "Epoch 14/25\n",
      "38/38 [==============================] - 3s 87ms/step - loss: 0.0061\n",
      "Epoch 15/25\n",
      "38/38 [==============================] - 4s 93ms/step - loss: 0.0067\n",
      "Epoch 16/25\n",
      "38/38 [==============================] - 3s 89ms/step - loss: 0.0062\n",
      "Epoch 17/25\n",
      "38/38 [==============================] - 3s 89ms/step - loss: 0.0055\n",
      "Epoch 18/25\n",
      "38/38 [==============================] - 3s 90ms/step - loss: 0.0054\n",
      "Epoch 19/25\n",
      "38/38 [==============================] - 3s 89ms/step - loss: 0.0057\n",
      "Epoch 20/25\n",
      "38/38 [==============================] - 3s 88ms/step - loss: 0.0052\n",
      "Epoch 21/25\n",
      "38/38 [==============================] - 3s 89ms/step - loss: 0.0051\n",
      "Epoch 22/25\n",
      "38/38 [==============================] - 3s 90ms/step - loss: 0.0052\n",
      "Epoch 23/25\n",
      "38/38 [==============================] - 3s 91ms/step - loss: 0.0048\n",
      "Epoch 24/25\n",
      "38/38 [==============================] - 4s 94ms/step - loss: 0.0045\n",
      "Epoch 25/25\n",
      "38/38 [==============================] - 3s 91ms/step - loss: 0.0046\n"
     ]
    },
    {
     "data": {
      "text/plain": [
       "<keras.callbacks.History at 0x7897b82cd2d0>"
      ]
     },
     "execution_count": 10,
     "metadata": {},
     "output_type": "execute_result"
    }
   ],
   "source": [
    "# Callbacks\n",
    "\n",
    "# Save weights only for best model\n",
    "checkpointer = ModelCheckpoint(\n",
    "    filepath = 'weights_best.hdf5', \n",
    "    verbose = 2, \n",
    "    save_best_only = True\n",
    ")\n",
    "\n",
    "model.fit(\n",
    "    x_train, \n",
    "    y_train, \n",
    "    epochs=25, \n",
    "    batch_size = 32,\n",
    "    callbacks = [checkpointer]\n",
    ")"
   ]
  },
  {
   "cell_type": "markdown",
   "id": "a8dbb74f",
   "metadata": {
    "papermill": {
     "duration": 0.100759,
     "end_time": "2023-05-26T08:05:21.263749",
     "exception": false,
     "start_time": "2023-05-26T08:05:21.162990",
     "status": "completed"
    },
    "tags": []
   },
   "source": [
    "## 3. Inference:"
   ]
  },
  {
   "cell_type": "code",
   "execution_count": 11,
   "id": "518e5d14",
   "metadata": {
    "execution": {
     "iopub.execute_input": "2023-05-26T08:05:21.492225Z",
     "iopub.status.busy": "2023-05-26T08:05:21.491743Z",
     "iopub.status.idle": "2023-05-26T08:05:21.532694Z",
     "shell.execute_reply": "2023-05-26T08:05:21.531371Z"
    },
    "papermill": {
     "duration": 0.175057,
     "end_time": "2023-05-26T08:05:21.536363",
     "exception": false,
     "start_time": "2023-05-26T08:05:21.361306",
     "status": "completed"
    },
    "tags": []
   },
   "outputs": [],
   "source": [
    "# Load test data for the specified company and date range\n",
    "test_data = load_data(\n",
    "    company=COMPANY,\n",
    "    start=START_DATE_TEST,\n",
    "    end=dt.datetime.now()\n",
    ")\n",
    "\n",
    "# Extract the actual closing prices from the test data\n",
    "actual_prices = test_data['Close'].values\n",
    "\n",
    "# Concatenate the training and test data along the 'Close' column\n",
    "total_dataset = pd.concat((data['Close'], test_data['Close']), axis=0)\n",
    "\n",
    "# Extract the relevant portion of the dataset for model inputs\n",
    "model_inputs = total_dataset[len(total_dataset) - len(test_data) - prediction_days:].values\n",
    "\n",
    "# Reshape the model inputs to a 2D array with a single column\n",
    "model_inputs = model_inputs.reshape(-1, 1)\n",
    "\n",
    "# Apply the same scaling used for training data to the model inputs\n",
    "model_inputs = scaler.transform(model_inputs)"
   ]
  },
  {
   "cell_type": "code",
   "execution_count": 12,
   "id": "5abb92fe",
   "metadata": {
    "execution": {
     "iopub.execute_input": "2023-05-26T08:05:21.741655Z",
     "iopub.status.busy": "2023-05-26T08:05:21.740459Z",
     "iopub.status.idle": "2023-05-26T08:05:23.326624Z",
     "shell.execute_reply": "2023-05-26T08:05:23.325108Z"
    },
    "papermill": {
     "duration": 1.692214,
     "end_time": "2023-05-26T08:05:23.329812",
     "exception": false,
     "start_time": "2023-05-26T08:05:21.637598",
     "status": "completed"
    },
    "tags": []
   },
   "outputs": [
    {
     "name": "stdout",
     "output_type": "stream",
     "text": [
      "3/3 [==============================] - 1s 23ms/step\n"
     ]
    }
   ],
   "source": [
    "# Initialize an empty list for test data input\n",
    "x_test = []\n",
    "\n",
    "# Iterate through the model inputs, starting from the prediction_days index\n",
    "for x in range(prediction_days, len(model_inputs)):\n",
    "    # Append the previous 'prediction_days' values to x_test\n",
    "    x_test.append(model_inputs[x-prediction_days:x, 0])\n",
    "\n",
    "# Convert the x_test list to a numpy array\n",
    "x_test = np.array(x_test)\n",
    "\n",
    "# Reshape x_test to a 3D array with the appropriate dimensions for the LSTM model\n",
    "x_test = np.reshape(x_test, (x_test.shape[0], x_test.shape[1], 1))\n",
    "\n",
    "# Generate price predictions using the LSTM model\n",
    "predicted_prices = model.predict(x_test)\n",
    "\n",
    "# Invert the scaling applied to the predicted prices to obtain actual values\n",
    "predicted_prices = scaler.inverse_transform(predicted_prices)"
   ]
  },
  {
   "cell_type": "code",
   "execution_count": 13,
   "id": "e44b4a65",
   "metadata": {
    "execution": {
     "iopub.execute_input": "2023-05-26T08:05:23.531049Z",
     "iopub.status.busy": "2023-05-26T08:05:23.529853Z",
     "iopub.status.idle": "2023-05-26T08:05:23.841499Z",
     "shell.execute_reply": "2023-05-26T08:05:23.840062Z"
    },
    "papermill": {
     "duration": 0.41471,
     "end_time": "2023-05-26T08:05:23.844319",
     "exception": false,
     "start_time": "2023-05-26T08:05:23.429609",
     "status": "completed"
    },
    "tags": []
   },
   "outputs": [
    {
     "data": {
      "image/png": "[encoded data removed]",
      "text/plain": [
       "<Figure size 640x480 with 1 Axes>"
      ]
     },
     "metadata": {},
     "output_type": "display_data"
    }
   ],
   "source": [
    "# Plot the actual prices using a black line\n",
    "plt.plot(actual_prices, color='black', label=f\"Actual {COMPANY} price\")\n",
    "\n",
    "# Plot the predicted prices using a green line\n",
    "plt.plot(predicted_prices, color='green', label=f\"Predicted {COMPANY} price\")\n",
    "\n",
    "# Set the title of the plot using the company name\n",
    "plt.title(f\"{COMPANY} share price\")\n",
    "\n",
    "# Set the x-axis label as 'time'\n",
    "plt.xlabel(\"time\")\n",
    "\n",
    "# Set the y-axis label using the company name\n",
    "plt.ylabel(f\"{COMPANY} share price\")\n",
    "\n",
    "# Display a legend to differentiate the actual and predicted prices\n",
    "plt.legend()\n",
    "\n",
    "# Show the plot on the screen\n",
    "plt.show()"
   ]
  },
  {
   "cell_type": "code",
   "execution_count": 14,
   "id": "df087287",
   "metadata": {
    "execution": {
     "iopub.execute_input": "2023-05-26T08:05:24.049872Z",
     "iopub.status.busy": "2023-05-26T08:05:24.049406Z",
     "iopub.status.idle": "2023-05-26T08:05:25.431205Z",
     "shell.execute_reply": "2023-05-26T08:05:25.429972Z"
    },
    "papermill": {
     "duration": 1.489532,
     "end_time": "2023-05-26T08:05:25.433847",
     "exception": false,
     "start_time": "2023-05-26T08:05:23.944315",
     "status": "completed"
    },
    "tags": []
   },
   "outputs": [
    {
     "name": "stdout",
     "output_type": "stream",
     "text": [
      "1/1 [==============================] - 1s 1s/step\n",
      "Prediction: 40.698001861572266\n"
     ]
    }
   ],
   "source": [
    "# Extract the last 'prediction_days' values from the model inputs\n",
    "real_data = [model_inputs[len(model_inputs) + 1 - prediction_days:len(model_inputs + 1), 0]]\n",
    "\n",
    "# Convert the real_data list to a numpy array\n",
    "real_data = np.array(real_data)\n",
    "\n",
    "# Reshape real_data to a 3D array with the appropriate dimensions for the LSTM model\n",
    "real_data = np.reshape(real_data, (real_data.shape[0], real_data.shape[1], 1))\n",
    "\n",
    "# Generate a prediction using the LSTM model with the real_data input\n",
    "prediction = model.predict(real_data)\n",
    "\n",
    "# Invert the scaling applied to the prediction to obtain the actual value\n",
    "prediction = scaler.inverse_transform(prediction)\n",
    "\n",
    "# Print the prediction result to the console\n",
    "print(f\"Prediction: {prediction[0][0]}\")"
   ]
  },
  {
   "cell_type": "markdown",
   "id": "2d0260e4",
   "metadata": {
    "papermill": {
     "duration": 0.10054,
     "end_time": "2023-05-26T08:05:25.636047",
     "exception": false,
     "start_time": "2023-05-26T08:05:25.535507",
     "status": "completed"
    },
    "tags": []
   },
   "source": [
    "## 4. References:\n",
    "\n",
    "Used the datasets mentioned below:\n",
    "1. CAC40 Dataset\n",
    "2. S&P 500 stock data \n",
    "3. NSE Stocks Data\n",
    "4. Huge Stock Market Dataset\n",
    "5. ibovespa-stocks\n",
    "\n",
    "for more information on LSTM model: https://www.geeksforgeeks.org/long-short-term-memory-networks-explanation/"
   ]
  }
 ],
 "metadata": {
  "kernelspec": {
   "display_name": "Python 3",
   "language": "python",
   "name": "python3"
  },
  "language_info": {
   "codemirror_mode": {
    "name": "ipython",
    "version": 3
   },
   "file_extension": ".py",
   "mimetype": "text/x-python",
   "name": "python",
   "nbconvert_exporter": "python",
   "pygments_lexer": "ipython3",
   "version": "3.7.12"
  },
  "papermill": {
   "default_parameters": {},
   "duration": 183.779312,
   "end_time": "2023-05-26T08:05:29.035356",
   "environment_variables": {},
   "exception": null,
   "input_path": "__notebook__.ipynb",
   "output_path": "__notebook__.ipynb",
   "parameters": {},
   "start_time": "2023-05-26T08:02:25.256044",
   "version": "2.4.0"
  }
 },
 "nbformat": 4,
 "nbformat_minor": 5
}
